{
 "cells": [
  {
   "cell_type": "markdown",
   "metadata": {},
   "source": [
    "# Goat Detection training"
   ]
  },
  {
   "cell_type": "code",
   "execution_count": 26,
   "metadata": {},
   "outputs": [],
   "source": [
    "import torch\n",
    "import torch.nn as nn\n",
    "import torch.nn.functional as F\n",
    "import torch.optim as optim\n",
    "from torch.utils.data import Dataset, DataLoader\n",
    "import numpy as np\n",
    "import matplotlib.pyplot as plt\n",
    "from torchvision import transforms, utils, datasets, models\n",
    "from tqdm import tqdm\n",
    "import cv2\n"
   ]
  },
  {
   "cell_type": "code",
   "execution_count": 27,
   "metadata": {},
   "outputs": [],
   "source": [
    "class GoatDataset(Dataset):\n",
    "    def __init__(self, size=64):\n",
    "        self.size = size\n",
    "        self.root = \"./data/HoofedAnimals/img/\"\n",
    "        self.transforms = transforms.transforms.Resize(size)\n",
    "        with open(\"./data/HoofedAnimals/ground_truth.txt\") as f:\n",
    "            content = f.readlines()\n",
    "            self.labels = [line.split()[3] is not '0' for line in content]\n",
    "\n",
    "    def __getitem__(self, index):\n",
    "        path = self.root+str(index+1)+\".pgm\"\n",
    "        im = cv2.imread(path)\n",
    "        im = cv2.resize(im, (self.size, self.size))\n",
    "        transform = transforms.ToTensor()\n",
    "        im = transform(im)\n",
    "        return im, torch.tensor(self.labels[index]).float()\n",
    "\n",
    "    def __len__(self):\n",
    "        return 200\n",
    "\n",
    "dataset = GoatDataset()\n",
    "dataloader = DataLoader(dataset, batch_size=10, shuffle=True)"
   ]
  },
  {
   "cell_type": "code",
   "execution_count": 28,
   "metadata": {},
   "outputs": [
    {
     "name": "stdout",
     "output_type": "stream",
     "text": [
      "tensor(0.)\n",
      "tensor([[[0.2118, 0.3843, 0.2706,  ..., 0.4471, 0.3529, 0.3294],\n",
      "         [0.3098, 0.3490, 0.3098,  ..., 0.3725, 0.4196, 0.4275],\n",
      "         [0.4431, 0.4235, 0.1569,  ..., 0.3373, 0.3647, 0.2549],\n",
      "         ...,\n",
      "         [0.3020, 0.3255, 0.2824,  ..., 0.3451, 0.3216, 0.3490],\n",
      "         [0.3059, 0.3569, 0.3961,  ..., 0.4000, 0.2784, 0.3647],\n",
      "         [0.2863, 0.4314, 0.3255,  ..., 0.4078, 0.3647, 0.3961]],\n",
      "\n",
      "        [[0.2118, 0.3843, 0.2706,  ..., 0.4471, 0.3529, 0.3294],\n",
      "         [0.3098, 0.3490, 0.3098,  ..., 0.3725, 0.4196, 0.4275],\n",
      "         [0.4431, 0.4235, 0.1569,  ..., 0.3373, 0.3647, 0.2549],\n",
      "         ...,\n",
      "         [0.3020, 0.3255, 0.2824,  ..., 0.3451, 0.3216, 0.3490],\n",
      "         [0.3059, 0.3569, 0.3961,  ..., 0.4000, 0.2784, 0.3647],\n",
      "         [0.2863, 0.4314, 0.3255,  ..., 0.4078, 0.3647, 0.3961]],\n",
      "\n",
      "        [[0.2118, 0.3843, 0.2706,  ..., 0.4471, 0.3529, 0.3294],\n",
      "         [0.3098, 0.3490, 0.3098,  ..., 0.3725, 0.4196, 0.4275],\n",
      "         [0.4431, 0.4235, 0.1569,  ..., 0.3373, 0.3647, 0.2549],\n",
      "         ...,\n",
      "         [0.3020, 0.3255, 0.2824,  ..., 0.3451, 0.3216, 0.3490],\n",
      "         [0.3059, 0.3569, 0.3961,  ..., 0.4000, 0.2784, 0.3647],\n",
      "         [0.2863, 0.4314, 0.3255,  ..., 0.4078, 0.3647, 0.3961]]])\n"
     ]
    }
   ],
   "source": [
    "im, label = dataset[0]\n",
    "print(label)\n",
    "print(im)"
   ]
  },
  {
   "cell_type": "code",
   "execution_count": 51,
   "metadata": {},
   "outputs": [],
   "source": [
    "class GoatDetection(nn.Module):\n",
    "    def __init__(self):\n",
    "        super(GoatDetection, self).__init__()\n",
    "        self.resnet = models.resnet18(pretrained=True)\n",
    "        self.final_layer = nn.Linear(1000, 1)\n",
    "        self.sig = nn.Sigmoid()\n",
    "\n",
    "    def forward(self, x):\n",
    "        return self.sig(self.final_layer(self.resnet(x)))\n"
   ]
  },
  {
   "cell_type": "code",
   "execution_count": 55,
   "metadata": {},
   "outputs": [],
   "source": [
    "bne = nn.BCELoss()\n",
    "model = GoatDetection()\n",
    "model.cuda()\n",
    "optimizer = torch.optim.Adam(model.parameters(),weight_decay=1e-5)"
   ]
  },
  {
   "cell_type": "code",
   "execution_count": 62,
   "metadata": {
    "tags": [
     "outputPrepend",
     "outputPrepend",
     "outputPrepend",
     "outputPrepend",
     "outputPrepend",
     "outputPrepend",
     "outputPrepend",
     "outputPrepend",
     "outputPrepend",
     "outputPrepend",
     "outputPrepend",
     "outputPrepend",
     "outputPrepend",
     "outputPrepend",
     "outputPrepend",
     "outputPrepend",
     "outputPrepend",
     "outputPrepend",
     "outputPrepend",
     "outputPrepend",
     "outputPrepend",
     "outputPrepend",
     "outputPrepend",
     "outputPrepend",
     "outputPrepend",
     "outputPrepend",
     "outputPrepend",
     "outputPrepend",
     "outputPrepend",
     "outputPrepend",
     "outputPrepend",
     "outputPrepend",
     "outputPrepend",
     "outputPrepend",
     "outputPrepend",
     "outputPrepend",
     "outputPrepend",
     "outputPrepend",
     "outputPrepend",
     "outputPrepend",
     "outputPrepend",
     "outputPrepend",
     "outputPrepend",
     "outputPrepend",
     "outputPrepend",
     "outputPrepend",
     "outputPrepend",
     "outputPrepend",
     "outputPrepend",
     "outputPrepend",
     "outputPrepend",
     "outputPrepend",
     "outputPrepend",
     "outputPrepend",
     "outputPrepend",
     "outputPrepend",
     "outputPrepend"
    ]
   },
   "outputs": [
    {
     "name": "stderr",
     "output_type": "stream",
     "text": [
      "epoch:0 loss:1.4066 accuracy:0.70: 100%|██████████| 20/20 [00:02<00:00,  8.51it/s]\n"
     ]
    }
   ],
   "source": [
    "epochs = 1\n",
    "for epoch in range(epochs):\n",
    "\n",
    "  loop = tqdm(total=len(dataloader), position=0)\n",
    "  total = 0\n",
    "  for i, (image, label) in enumerate(dataloader):\n",
    "    image, label = image.cuda(), label.cuda()\n",
    "    optimizer.zero_grad()\n",
    "\n",
    "    out = model(image)\n",
    "\n",
    "    loss = bne(out, label)\n",
    "    loss.backward()\n",
    "    optimizer.step()\n",
    "    total += loss.item()\n",
    "    preds = (out >= 0.5).float().squeeze(1)\n",
    "    \n",
    "    accuracy = (preds == label).sum().item() / len(label)\n",
    "\n",
    "    loop.set_description('epoch:{:d} loss:{:.4f} accuracy:{:.2f}'.format(epoch, total/(i+1), accuracy))\n",
    "    loop.update(1)\n",
    "  loop.close()\n"
   ]
  },
  {
   "cell_type": "code",
   "execution_count": 63,
   "metadata": {},
   "outputs": [],
   "source": [
    "def prepare_ims(names, shared_root=\"\"):\n",
    "    tensors = []\n",
    "    for n in names:\n",
    "        path = shared_root+n\n",
    "        im = cv2.imread(path)\n",
    "        im = cv2.resize(im, (64, 64))\n",
    "        transform = transforms.ToTensor()\n",
    "        im = transform(im)\n",
    "        im = im.unsqueeze(0)\n",
    "        tensors.append(im)\n",
    "#     print(tensors)\n",
    "    return torch.cat(tensors, 0)\n",
    "\n",
    "images = prepare_ims([\"cow.jfif\", \"goat.jfif\", \"car.jfif\"], shared_root=\"./data/\")\n"
   ]
  },
  {
   "cell_type": "code",
   "execution_count": 64,
   "metadata": {},
   "outputs": [
    {
     "name": "stdout",
     "output_type": "stream",
     "text": [
      "torch.Size([3, 3, 64, 64])\n",
      "tensor([0., 0., 0.], device='cuda:0')\n"
     ]
    }
   ],
   "source": [
    "print(images.size())\n",
    "images = images.cuda()\n",
    "out = model(images)\n",
    "preds = (out >= 0.5).float().squeeze(1)\n",
    "print(preds)"
   ]
  },
  {
   "cell_type": "code",
   "execution_count": null,
   "metadata": {},
   "outputs": [],
   "source": []
  }
 ],
 "metadata": {
  "file_extension": ".py",
  "kernelspec": {
   "display_name": "Python 3.6.5 64-bit ('venv': venv)",
   "language": "python",
   "name": "python36564bitvenvvenvff4f834155e749d4b85ce9c89906c3b0"
  },
  "language_info": {
   "codemirror_mode": {
    "name": "ipython",
    "version": 3
   },
   "file_extension": ".py",
   "mimetype": "text/x-python",
   "name": "python",
   "nbconvert_exporter": "python",
   "pygments_lexer": "ipython3",
   "version": "3.6.5"
  },
  "mimetype": "text/x-python",
  "name": "python",
  "npconvert_exporter": "python",
  "pygments_lexer": "ipython3",
  "version": 3
 },
 "nbformat": 4,
 "nbformat_minor": 2
}
